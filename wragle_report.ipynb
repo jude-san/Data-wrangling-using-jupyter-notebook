{
 "cells": [
  {
   "cell_type": "markdown",
   "metadata": {},
   "source": [
    "## Reporting: wragle_report\n",
    "* Create a **300-600 word written report** called \"wrangle_report.pdf\" or \"wrangle_report.html\" that briefly describes your wrangling efforts. This is to be framed as an internal document."
   ]
  },
  {
   "cell_type": "markdown",
   "metadata": {},
   "source": [
    "## Gathering \n",
    "\n",
    "> In this project, we gather, assess, and clean data and then act on it by wrangling the data.\n",
    "        WeRateDogs Twitter archive was downloaded from Udacity classroom.\n",
    "        Twitter image Prediction (Image_predictions.tsv) was downloaded programmatically from the URL link usung python Requests library.\n",
    "        Additional data from Twitter was downloaded using Twitter API and stored as tweets_data.txt\n",
    "        Data was then assessed visually and programmatically before being cleaned for exploratory analysis.\n",
    "        \n",
    "## Assessing Data\n",
    "\n",
    "> Data gathered was assessed visually and programmatically, indicating uality and tidiness issues.\n",
    "\n",
    "## Data Cleaning \n",
    "\n",
    "> Data cleaning was focused on:\n",
    "    - Making copies of all the datasets before cleaning them individually.\n",
    "    - Data cleaning was done sing the 'Define-Code-Test' framework.\n",
    "    - Erasing unnecessary columns from tables in each datasets.\n",
    "    - Renaming columns with more decriptive names for easy understanding of the columns resentation.\n",
    "    - Removing or dropping rows with a missing value(s)\n",
    "    - Changing the data types of columns to the appropriate datatype needed for our wrangling.\n",
    "    \n",
    "    \n",
    "    \n",
    "## Storing Data\n",
    ">  At this step, we mere all cleaned copies of dataset(all three of them) and rename it twitter_archive_master.\n",
    "\n",
    "\n",
    "## Wrangling Data\n",
    "> We focused on finding insights from the data and visualizing the findings from the data using appropriate graphs to answer questions."
   ]
  }
 ],
 "metadata": {
  "kernelspec": {
   "display_name": "Python 3 (ipykernel)",
   "language": "python",
   "name": "python3"
  },
  "language_info": {
   "codemirror_mode": {
    "name": "ipython",
    "version": 3
   },
   "file_extension": ".py",
   "mimetype": "text/x-python",
   "name": "python",
   "nbconvert_exporter": "python",
   "pygments_lexer": "ipython3",
   "version": "3.10.4"
  }
 },
 "nbformat": 4,
 "nbformat_minor": 2
}
